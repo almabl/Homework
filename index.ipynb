{
 "cells": [
  {
   "cell_type": "markdown",
   "metadata": {
    "slideshow": {
     "slide_type": "slide"
    }
   },
   "source": [
    "# Heart Disease UCI\n",
    "\n",
    "## Alma Berilo Litric"
   ]
  },
  {
   "cell_type": "markdown",
   "metadata": {
    "slideshow": {
     "slide_type": "slide"
    }
   },
   "source": [
    "- The goal of the Project was to classify patients by the presence or abscence of heart disease, as well as to explore the data to see whether it is possible to find any other trends to predict certain cardiovascular events\n",
    "\n",
    "- Data provided at https://archive.ics.uci.edu/ml/datasets/Heart+Disease\n",
    "\n",
    "- The database contains 76 attributes, but all published experiments refer to using a subset of 14 of them\n",
    "\n",
    "- There are 303 instances\n"
   ]
  },
  {
   "cell_type": "markdown",
   "metadata": {
    "slideshow": {
     "slide_type": "slide"
    }
   },
   "source": [
    "## Feature Information:\n",
    "\n",
    "1. age - age\n",
    "2. sex - sex\n",
    "3. cp - chest pain type (4 values)\n",
    "4. trestbps - resting blood pressure\n",
    "5. chol - serum cholesterol in mg/dl\n",
    "6. fbs - fasting blood sugar > 120 mg/dl\n",
    "7. restecg - resting electrocardiographic results (values 0,1,2)\n",
    "8. thalach - maximum heart rate achieved\n",
    "9. exang - exercise induced angina\n",
    "10. oldpeak - ST depression induced by exercise relative to rest\n",
    "11. slope - the slope of the peak exercise ST segment\n",
    "12. ca - number of major vessels (0-3) colored by flouroscopy\n",
    "13. thal - 3 = normal; 6 = fixed defect; 7 = reversable defect\n"
   ]
  },
  {
   "cell_type": "markdown",
   "metadata": {
    "slideshow": {
     "slide_type": "slide"
    }
   },
   "source": [
    "## Target Information:\n",
    "\n",
    "- The \"target\" field refers to the presence of heart disease in the patient. It is integer valued from 0 (no presence) to 1 (presence)"
   ]
  },
  {
   "cell_type": "markdown",
   "metadata": {
    "slideshow": {
     "slide_type": "slide"
    }
   },
   "source": [
    "# Exploratory Data Analysis\n",
    "\n",
    "\n",
    "\n",
    "- No missing values\n",
    "- Numerical variables (age, trestbps, chol, thalach, oldpeak, slope, ca) and categorical variables that take numerical values"
   ]
  },
  {
   "cell_type": "code",
   "execution_count": 4,
   "metadata": {
    "slideshow": {
     "slide_type": "slide"
    }
   },
   "outputs": [
    {
     "data": {
      "text/plain": [
       "([<matplotlib.patches.Wedge at 0x20b2885a8d0>,\n",
       "  <matplotlib.patches.Wedge at 0x20b2885afd0>],\n",
       " [Text(-0.1534669293828939, 1.0892418930548835, 'Disease'),\n",
       "  Text(0.1534670313650796, -1.0892418786862677, 'No Disease')],\n",
       " [Text(-0.08370923420885121, 0.5941319416663, '54.46'),\n",
       "  Text(0.08370928983549797, -0.5941319338288732, '45.54')])"
      ]
     },
     "execution_count": 4,
     "metadata": {},
     "output_type": "execute_result"
    },
    {
     "data": {
      "image/png": "[encoded data removed]",
      "text/plain": [
       "<Figure size 432x288 with 1 Axes>"
      ]
     },
     "metadata": {},
     "output_type": "display_data"
    }
   ],
   "source": [
    "#Target distribution shows that classes are balanced \n",
    "\n",
    "plt.pie(df.target.value_counts(), \n",
    "        labels = ['Disease', 'No Disease'],\n",
    "        autopct = '%.2f',\n",
    "        colors = ['orange', 'green'])"
   ]
  },
  {
   "cell_type": "code",
   "execution_count": 5,
   "metadata": {
    "slideshow": {
     "slide_type": "slide"
    }
   },
   "outputs": [
    {
     "data": {
      "text/plain": [
       "([<matplotlib.patches.Wedge at 0x20b28e14908>,\n",
       "  <matplotlib.patches.Wedge at 0x20b28e1d080>],\n",
       " [Text(-0.5986245291714798, 0.9228481310997082, 'Males'),\n",
       "  Text(0.5986244427681994, -0.9228481871469777, 'Females')],\n",
       " [Text(-0.32652247045717075, 0.503371707872568, '68.32'),\n",
       "  Text(0.3265224233281087, -0.5033717384438059, '31.68')])"
      ]
     },
     "execution_count": 5,
     "metadata": {},
     "output_type": "execute_result"
    },
    {
     "data": {
      "image/png": "[encoded data removed]",
      "text/plain": [
       "<Figure size 432x288 with 1 Axes>"
      ]
     },
     "metadata": {},
     "output_type": "display_data"
    }
   ],
   "source": [
    "#Sex attribute distribution shows more than two thirds of males in the sample data\n",
    "\n",
    "\n",
    "plt.pie(df.sex.value_counts(), \n",
    "        labels = ['Males', 'Females'],\n",
    "        autopct = '%.2f',\n",
    "        colors = ['blue', 'red'])"
   ]
  },
  {
   "cell_type": "code",
   "execution_count": 6,
   "metadata": {
    "slideshow": {
     "slide_type": "slide"
    }
   },
   "outputs": [
    {
     "data": {
      "text/plain": [
       "(array([ 1., 11., 33., 38., 37., 60., 63., 43., 14.,  3.]),\n",
       " array([29. , 33.8, 38.6, 43.4, 48.2, 53. , 57.8, 62.6, 67.4, 72.2, 77. ]),\n",
       " <a list of 10 Patch objects>)"
      ]
     },
     "execution_count": 6,
     "metadata": {},
     "output_type": "execute_result"
    },
    {
     "data": {
      "image/png": "[encoded data removed]",
      "text/plain": [
       "<Figure size 432x288 with 1 Axes>"
      ]
     },
     "metadata": {
      "needs_background": "light"
     },
     "output_type": "display_data"
    }
   ],
   "source": [
    "#Age Attribute distribution shows that most of the sample data is within 40 - 65 years range\n",
    "\n",
    "plt.hist(df.age)"
   ]
  },
  {
   "cell_type": "code",
   "execution_count": 7,
   "metadata": {
    "slideshow": {
     "slide_type": "slide"
    }
   },
   "outputs": [
    {
     "data": {
      "text/plain": [
       "<matplotlib.axes._subplots.AxesSubplot at 0x20b28cb1b38>"
      ]
     },
     "execution_count": 7,
     "metadata": {},
     "output_type": "execute_result"
    },
    {
     "data": {
      "image/png": "[encoded data removed]",
      "text/plain": [
       "<Figure size 432x288 with 1 Axes>"
      ]
     },
     "metadata": {
      "needs_background": "light"
     },
     "output_type": "display_data"
    }
   ],
   "source": [
    "#Sex type and heart disease\n",
    "\n",
    "#Among females, a great majority of samples are positive for heart disease\n",
    "\n",
    "#Among males, majority of samples are negative for heart disease\n",
    "\n",
    "sns.countplot(x = 'sex', data = df, hue = 'target')"
   ]
  },
  {
   "cell_type": "code",
   "execution_count": 8,
   "metadata": {
    "slideshow": {
     "slide_type": "slide"
    }
   },
   "outputs": [
    {
     "data": {
      "text/plain": [
       "<matplotlib.axes._subplots.AxesSubplot at 0x20b28ae6860>"
      ]
     },
     "execution_count": 8,
     "metadata": {},
     "output_type": "execute_result"
    },
    {
     "data": {
      "image/png": "[encoded data removed]",
      "text/plain": [
       "<Figure size 432x288 with 1 Axes>"
      ]
     },
     "metadata": {
      "needs_background": "light"
     },
     "output_type": "display_data"
    }
   ],
   "source": [
    "#Age and heart disease\n",
    "\n",
    "#Ages 50 -70 have more samples without heart disease\n",
    "\n",
    "#Ages < 50 and ages > 70 have more samples with heart disease\n",
    "\n",
    "bins = [20,30,40,50,60,70,80]\n",
    "\n",
    "df['binned_age'] = pd.cut(df['age'], bins)\n",
    "sns.countplot(x = 'binned_age', data = df, hue = 'target')"
   ]
  },
  {
   "cell_type": "code",
   "execution_count": 9,
   "metadata": {
    "slideshow": {
     "slide_type": "slide"
    }
   },
   "outputs": [
    {
     "data": {
      "text/plain": [
       "<matplotlib.axes._subplots.AxesSubplot at 0x20b28d675f8>"
      ]
     },
     "execution_count": 9,
     "metadata": {},
     "output_type": "execute_result"
    },
    {
     "data": {
      "image/png": "[encoded data removed]",
      "text/plain": [
       "<Figure size 432x288 with 1 Axes>"
      ]
     },
     "metadata": {
      "needs_background": "light"
     },
     "output_type": "display_data"
    }
   ],
   "source": [
    "#cp (Chest pain) and heart disease\n",
    "#chest pain types:0 - typical angina, 1 - atypical angina, 2 - non-angina, 3 - asymptomatic angina\n",
    "\n",
    "#Most samples with chest pain type 0 do not have heart disease\n",
    "#Most samples with chest pain type 1, 2 or 3 do have heart disease\n",
    "#Type 2 is the most common chest pain type among patients diagnosed with heart disease \n",
    "\n",
    "sns.countplot(x = 'cp', data = df, hue = 'target')"
   ]
  },
  {
   "cell_type": "code",
   "execution_count": 10,
   "metadata": {
    "slideshow": {
     "slide_type": "slide"
    }
   },
   "outputs": [
    {
     "data": {
      "text/plain": [
       "<matplotlib.axes._subplots.AxesSubplot at 0x20b28ad4f28>"
      ]
     },
     "execution_count": 10,
     "metadata": {},
     "output_type": "execute_result"
    },
    {
     "data": {
      "image/png": "[encoded data removed]",
      "text/plain": [
       "<Figure size 576x288 with 1 Axes>"
      ]
     },
     "metadata": {
      "needs_background": "light"
     },
     "output_type": "display_data"
    }
   ],
   "source": [
    "#Maximum heart rate and heart disease\n",
    "\n",
    "#Patients with maximum heart rate over 140 are more likely to be diagnosed with heart disease\n",
    "#This is especially true for those whose maximum heart rate is higher than 160\n",
    "#Further on, the higher the heart rate is, the greater is the probabilty of patient being diagnosed with heart disease\n",
    "\n",
    "plt.figure(figsize = (8,4))\n",
    "bins = [60,80,100,120,140,160,180,200,220]\n",
    "\n",
    "df['binned_max_hr'] = pd.cut(df['thalach'], bins)\n",
    "sns.countplot(x = 'binned_max_hr', data = df, hue = 'target')\n"
   ]
  },
  {
   "cell_type": "code",
   "execution_count": 11,
   "metadata": {
    "slideshow": {
     "slide_type": "slide"
    }
   },
   "outputs": [
    {
     "data": {
      "text/plain": [
       "<matplotlib.axes._subplots.AxesSubplot at 0x20b2a140ac8>"
      ]
     },
     "execution_count": 11,
     "metadata": {},
     "output_type": "execute_result"
    },
    {
     "data": {
      "image/png": "[encoded data removed]",
      "text/plain": [
       "<Figure size 432x288 with 1 Axes>"
      ]
     },
     "metadata": {
      "needs_background": "light"
     },
     "output_type": "display_data"
    }
   ],
   "source": [
    "#Fasting blood sugar > 120 mg/dl and heart disease\n",
    "\n",
    "#Majority of patients do not have fasting blood sugar > 120 mg/dl\n",
    "#Among the patients whose fbs is greater than 120 mg/dl, approximately 50% are diagnosed with heart disease\n",
    "\n",
    "sns.countplot(x = 'fbs', data = df, hue = 'target')"
   ]
  },
  {
   "cell_type": "code",
   "execution_count": 12,
   "metadata": {
    "slideshow": {
     "slide_type": "slide"
    }
   },
   "outputs": [
    {
     "data": {
      "text/plain": [
       "<matplotlib.axes._subplots.AxesSubplot at 0x20b2a191940>"
      ]
     },
     "execution_count": 12,
     "metadata": {},
     "output_type": "execute_result"
    },
    {
     "data": {
      "image/png": "[encoded data removed]",
      "text/plain": [
       "<Figure size 432x288 with 1 Axes>"
      ]
     },
     "metadata": {
      "needs_background": "light"
     },
     "output_type": "display_data"
    }
   ],
   "source": [
    "#Ca (number of major vessels (0-3) colored by flouroscopy ) and heart disease\n",
    "\n",
    "#The smaller the number of major vessels colored by fluoroscopy is, the greater probability of patient being diagnosed with heart disease\n",
    "\n",
    "sns.countplot(x = 'ca', data = df, hue = 'target')"
   ]
  },
  {
   "cell_type": "code",
   "execution_count": 16,
   "metadata": {
    "slideshow": {
     "slide_type": "slide"
    }
   },
   "outputs": [
    {
     "data": {
      "text/plain": [
       "<matplotlib.axes._subplots.AxesSubplot at 0x20b2b2296d8>"
      ]
     },
     "execution_count": 16,
     "metadata": {},
     "output_type": "execute_result"
    },
    {
     "data": {
      "image/png": "[encoded data removed]",
      "text/plain": [
       "<Figure size 432x288 with 1 Axes>"
      ]
     },
     "metadata": {
      "needs_background": "light"
     },
     "output_type": "display_data"
    }
   ],
   "source": [
    "#Thal (defects - 1 - normal; 2 = fixed defect; 3 = reversable defect) and heart disease\n",
    "\n",
    "#Patients with thal = 2 (fixed defect) are most likely to be diagnosed with heart disease\n",
    "#Patients with thal = 3(reversable deffect) and thal = 1 (normal) are less likely to be diagnosed with heart disease\n",
    "\n",
    "sns.countplot(x = 'thal', data = df, hue = 'target')"
   ]
  },
  {
   "cell_type": "markdown",
   "metadata": {
    "slideshow": {
     "slide_type": "slide"
    }
   },
   "source": [
    "# Model Implementation and Evaluation\n",
    "\n",
    "- Categorical features converted into dummy varibles\n",
    "\n",
    "- Three models implemented: Logistic regression, KNN, Random forest\n",
    "- Evaluation based on classification report, confusion matrix, ROC curve and AUC score \n"
   ]
  },
  {
   "cell_type": "markdown",
   "metadata": {
    "slideshow": {
     "slide_type": "slide"
    }
   },
   "source": [
    "# Logistic Regression - Model Evaluation"
   ]
  },
  {
   "cell_type": "code",
   "execution_count": 27,
   "metadata": {
    "slideshow": {
     "slide_type": "slide"
    }
   },
   "outputs": [
    {
     "name": "stdout",
     "output_type": "stream",
     "text": [
      "              precision    recall  f1-score   support\n",
      "\n",
      "           0       0.86      0.68      0.76        28\n",
      "           1       0.77      0.91      0.83        33\n",
      "\n",
      "   micro avg       0.80      0.80      0.80        61\n",
      "   macro avg       0.82      0.79      0.80        61\n",
      "weighted avg       0.81      0.80      0.80        61\n",
      "\n"
     ]
    }
   ],
   "source": [
    "#Logistic Regression Classification Report\n",
    "\n",
    "print(classification_report(y_test,y_pred))"
   ]
  },
  {
   "cell_type": "code",
   "execution_count": 28,
   "metadata": {
    "slideshow": {
     "slide_type": "slide"
    }
   },
   "outputs": [
    {
     "name": "stdout",
     "output_type": "stream",
     "text": [
      "[[19  9]\n",
      " [ 3 30]]\n"
     ]
    }
   ],
   "source": [
    "#LR Confusion Matrix\n",
    "\n",
    "print(confusion_matrix(y_test, y_pred))"
   ]
  },
  {
   "cell_type": "markdown",
   "metadata": {
    "slideshow": {
     "slide_type": "slide"
    }
   },
   "source": [
    "## FP = 7, TN = 21, FN = 3, TP = 30\n",
    "## - Out of 28 instances with class 0, the classifier predicted correctly 21\n",
    "## - Out of 33 instances with class 1, the classifier predicted correctly 30\n",
    "## - Accuracy score: 0.8360655737704918"
   ]
  },
  {
   "cell_type": "code",
   "execution_count": 34,
   "metadata": {
    "slideshow": {
     "slide_type": "slide"
    }
   },
   "outputs": [
    {
     "data": {
      "image/png": "[encoded data removed]",
      "text/plain": [
       "<Figure size 432x288 with 1 Axes>"
      ]
     },
     "metadata": {
      "needs_background": "light"
     },
     "output_type": "display_data"
    }
   ],
   "source": [
    "probs = lr.predict_proba(X_test)\n",
    "probs = probs[:,1]\n",
    "\n",
    "fpr, tpr, thresholds = roc_curve(y_test, probs)\n",
    "roc_auc = auc(fpr, tpr)\n",
    "plt.plot(fpr, tpr,'b', label = 'AUC = %0.2f' % roc_auc )\n",
    "plt.legend(loc = 'lower right')\n",
    "plt.plot([0, 1], [0, 1],'r--')\n",
    "plt.xlim([0, 1])\n",
    "plt.ylim([0, 1])\n",
    "plt.ylabel('True Positive Rate')\n",
    "plt.xlabel('False Positive Rate')\n",
    "plt.title('ROC Curve of Logistic Regression')\n",
    "plt.show()"
   ]
  },
  {
   "cell_type": "markdown",
   "metadata": {
    "slideshow": {
     "slide_type": "slide"
    }
   },
   "source": [
    "# K-Nearest Neighbors - Model Evaluation"
   ]
  },
  {
   "cell_type": "code",
   "execution_count": 57,
   "metadata": {
    "slideshow": {
     "slide_type": "slide"
    }
   },
   "outputs": [
    {
     "name": "stdout",
     "output_type": "stream",
     "text": [
      "              precision    recall  f1-score   support\n",
      "\n",
      "           0       0.63      0.61      0.62        28\n",
      "           1       0.68      0.70      0.69        33\n",
      "\n",
      "   micro avg       0.66      0.66      0.66        61\n",
      "   macro avg       0.65      0.65      0.65        61\n",
      "weighted avg       0.65      0.66      0.66        61\n",
      "\n"
     ]
    }
   ],
   "source": [
    "#KNN Classification Report\n",
    "\n",
    "print(classification_report(y_test,y_pred))"
   ]
  },
  {
   "cell_type": "code",
   "execution_count": 58,
   "metadata": {
    "slideshow": {
     "slide_type": "slide"
    }
   },
   "outputs": [
    {
     "name": "stdout",
     "output_type": "stream",
     "text": [
      "[[17 11]\n",
      " [10 23]]\n"
     ]
    }
   ],
   "source": [
    "#KNN Confusion Matrix\n",
    "\n",
    "print(confusion_matrix(y_test, y_pred))"
   ]
  },
  {
   "cell_type": "markdown",
   "metadata": {
    "slideshow": {
     "slide_type": "slide"
    }
   },
   "source": [
    "## FP = 11, TN = 17, FN = 10, TP = 23\n",
    "## - Out of 28 instances with class 0, the classifier predicted correctly 17\n",
    "## - Out of 33 instances with class 1, the classifier predicted correctly 23\n",
    "## - Accuracy score: 0.6557377049180327"
   ]
  },
  {
   "cell_type": "code",
   "execution_count": 62,
   "metadata": {
    "slideshow": {
     "slide_type": "slide"
    }
   },
   "outputs": [
    {
     "data": {
      "image/png": "[encoded data removed]",
      "text/plain": [
       "<Figure size 432x288 with 1 Axes>"
      ]
     },
     "metadata": {
      "needs_background": "light"
     },
     "output_type": "display_data"
    }
   ],
   "source": [
    "#ROC Curve for KNN\n",
    "\n",
    "probs = knn.predict_proba(X_test)\n",
    "probs = probs[:,1]\n",
    "\n",
    "fpr, tpr, thresholds = roc_curve(y_test, probs)\n",
    "roc_auc = auc(fpr, tpr)\n",
    "plt.plot(fpr, tpr,'b', label = 'AUC = %0.2f' % roc_auc )\n",
    "plt.legend(loc = 'lower right')\n",
    "plt.plot([0, 1], [0, 1],'r--')\n",
    "plt.xlim([0, 1])\n",
    "plt.ylim([0, 1])\n",
    "plt.ylabel('True Positive Rate')\n",
    "plt.xlabel('False Positive Rate')\n",
    "plt.title('ROC Curve of KNN')\n",
    "plt.show()"
   ]
  },
  {
   "cell_type": "markdown",
   "metadata": {
    "slideshow": {
     "slide_type": "slide"
    }
   },
   "source": [
    "# Random Forest - Model Evaluation"
   ]
  },
  {
   "cell_type": "code",
   "execution_count": 42,
   "metadata": {
    "slideshow": {
     "slide_type": "slide"
    }
   },
   "outputs": [
    {
     "name": "stdout",
     "output_type": "stream",
     "text": [
      "              precision    recall  f1-score   support\n",
      "\n",
      "           0       0.86      0.64      0.73        28\n",
      "           1       0.75      0.91      0.82        33\n",
      "\n",
      "   micro avg       0.79      0.79      0.79        61\n",
      "   macro avg       0.80      0.78      0.78        61\n",
      "weighted avg       0.80      0.79      0.78        61\n",
      "\n"
     ]
    }
   ],
   "source": [
    "#RF Classification Report\n",
    "\n",
    "print(classification_report(y_test,y_pred))"
   ]
  },
  {
   "cell_type": "code",
   "execution_count": 43,
   "metadata": {
    "slideshow": {
     "slide_type": "slide"
    }
   },
   "outputs": [
    {
     "name": "stdout",
     "output_type": "stream",
     "text": [
      "[[18 10]\n",
      " [ 3 30]]\n"
     ]
    }
   ],
   "source": [
    "#RF Confusion Matrix\n",
    "\n",
    "print(confusion_matrix(y_test, y_pred))"
   ]
  },
  {
   "cell_type": "markdown",
   "metadata": {
    "slideshow": {
     "slide_type": "slide"
    }
   },
   "source": [
    "## FP = 11, TN = 17, FN = 2, TP = 31\n",
    "## - Out of 28 instances with class 0, the classifier predicted correctly 17\n",
    "## - Out of 33 instances with class 1, the classifier predicted correctly 31\n",
    "\n",
    "## - Out of 33 sick persons, the classifier correctly identified 31 (False Negative = 2, i.e. 2 sick persons were misdiagnosed) - the lowest FN so far\n",
    "\n",
    "## - Accuracy score: 0.7868852459016393"
   ]
  },
  {
   "cell_type": "code",
   "execution_count": 46,
   "metadata": {
    "slideshow": {
     "slide_type": "slide"
    }
   },
   "outputs": [
    {
     "data": {
      "image/png": "[encoded data removed]",
      "text/plain": [
       "<Figure size 432x288 with 1 Axes>"
      ]
     },
     "metadata": {
      "needs_background": "light"
     },
     "output_type": "display_data"
    }
   ],
   "source": [
    "#RF ROC Curve\n",
    "\n",
    "probs = random_forest.predict_proba(X_test)\n",
    "probs = probs[:,1]\n",
    "\n",
    "fpr, tpr, thresholds = roc_curve(y_test, probs)\n",
    "roc_auc = auc(fpr, tpr)\n",
    "plt.plot(fpr, tpr,'b', label = 'AUC = %0.2f' % roc_auc )\n",
    "plt.legend(loc = 'lower right')\n",
    "plt.plot([0, 1], [0, 1],'r--')\n",
    "plt.xlim([0, 1])\n",
    "plt.ylim([0, 1])\n",
    "plt.ylabel('True Positive Rate')\n",
    "plt.xlabel('False Positive Rate')\n",
    "plt.title('ROC Curve of Random Forest')\n",
    "plt.show()"
   ]
  },
  {
   "cell_type": "markdown",
   "metadata": {
    "slideshow": {
     "slide_type": "slide"
    }
   },
   "source": [
    "# Conclusion\n",
    "\n",
    "\n",
    "- Looking at all metrics, it is obvious that KNN model has very poor performance compared to other two models and in general, so the choice will be made between Logistic Regression and Random Forest models\n",
    "\n",
    "\n",
    "- LR model has accuracy score of 0.8360655737704918, which is better than RF accuracy score of 0.7868852459016393\n",
    "\n",
    "\n",
    "- However, as we are using a health dataset, and there is a high cost associated with False Negative (people with heart desease with the wrong diagnosis and consequently no treatment), the metric of choice for evaluating models will be recall \n",
    "\n",
    "\n",
    "- Logistic Regression Recall - 0.909, Random Forest Recall - 0.939\n",
    "\n",
    "\n",
    "- Considering recall, Random Forest performance looks better, which makes it the model of choice in this classification problem\n",
    "\n",
    "\n",
    "- The selected Random Forest Model has recall 0.939, accuracy score 0.7868852459016393, and AUC score 0.91 \n",
    " "
   ]
  }
 ],
 "metadata": {
  "celltoolbar": "Slideshow",
  "kernelspec": {
   "display_name": "Python 3",
   "language": "python",
   "name": "python3"
  },
  "language_info": {
   "codemirror_mode": {
    "name": "ipython",
    "version": 3
   },
   "file_extension": ".py",
   "mimetype": "text/x-python",
   "name": "python",
   "nbconvert_exporter": "python",
   "pygments_lexer": "ipython3",
   "version": "3.7.1"
  }
 },
 "nbformat": 4,
 "nbformat_minor": 2
}
